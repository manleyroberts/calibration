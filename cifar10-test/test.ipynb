{
 "cells": [
  {
   "cell_type": "code",
   "execution_count": 36,
   "id": "7e2af2b5",
   "metadata": {},
   "outputs": [],
   "source": [
    "from calibration import * \n",
    "import scipy\n",
    "import torch \n",
    "import torchvision.transforms.functional as TF\n",
    "\n",
    "import torchvision\n",
    "import torchvision.transforms as transforms\n",
    "\n",
    "import numpy as np\n",
    "\n",
    "\n",
    "transform_test = transforms.Compose([\n",
    "    transforms.ToTensor(),\n",
    "    transforms.Normalize((0.4914, 0.4822, 0.4465), (0.2023, 0.1994, 0.2010)),\n",
    "])\n",
    "\n",
    "testsetv1 = torchvision.datasets.CIFAR10(root=\"/data/sgarg2/cifar/\", train=False, download=False, transform=transform_test)\n",
    "testloaderv1 = torch.utils.data.DataLoader(testsetv1, batch_size=200, shuffle=False, num_workers=2)\n",
    "\n",
    "\n"
   ]
  },
  {
   "cell_type": "code",
   "execution_count": 37,
   "id": "78c43f10",
   "metadata": {},
   "outputs": [],
   "source": [
    "agg_labels = []\n",
    "\n",
    "for _, labels in testloaderv1: \n",
    "    agg_labels.append(labels.numpy())"
   ]
  },
  {
   "cell_type": "code",
   "execution_count": 38,
   "id": "5658227c",
   "metadata": {},
   "outputs": [],
   "source": [
    "agg_labels =  np.concatenate(agg_labels,axis=0)"
   ]
  },
  {
   "cell_type": "code",
   "execution_count": 39,
   "id": "057e48cc",
   "metadata": {},
   "outputs": [],
   "source": [
    "probs = np.load(\"L114.npy\")"
   ]
  },
  {
   "cell_type": "code",
   "execution_count": 40,
   "id": "60382124",
   "metadata": {},
   "outputs": [
    {
     "data": {
      "text/plain": [
       "0.7297"
      ]
     },
     "execution_count": 40,
     "metadata": {},
     "output_type": "execute_result"
    }
   ],
   "source": [
    "np.mean(np.argmax(probs, axis = 1) == agg_labels)"
   ]
  },
  {
   "cell_type": "code",
   "execution_count": 45,
   "id": "90e0c8f9",
   "metadata": {},
   "outputs": [],
   "source": [
    "\n",
    "calibrator = TempScaling()\n",
    "probs = scipy.special.softmax(probs, axis=-1)\n",
    "\n",
    "probs = probs / np.sum(probs,axis=-1).reshape((-1, 1))\n"
   ]
  },
  {
   "cell_type": "code",
   "execution_count": 46,
   "id": "b90e6c34",
   "metadata": {},
   "outputs": [
    {
     "name": "stdout",
     "output_type": "stream",
     "text": [
      "Before temperature - NLL: 1.737, ECE: 0.379\n",
      "Optimal temperature: 0.264\n",
      "After temperature - NLL: 1.048, ECE: 0.021\n"
     ]
    }
   ],
   "source": [
    "calibrator.fit(probs, agg_labels)"
   ]
  },
  {
   "cell_type": "code",
   "execution_count": 23,
   "id": "91e90630",
   "metadata": {},
   "outputs": [
    {
     "data": {
      "text/plain": [
       "(array([  14.,   74.,  140.,  309.,  357.,  371.,  426.,  532.,  723.,\n",
       "        7054.]),\n",
       " array([0.23467539, 0.31120786, 0.3877403 , 0.46427277, 0.5408052 ,\n",
       "        0.6173377 , 0.6938702 , 0.7704026 , 0.8469351 , 0.9234675 ,\n",
       "        1.        ], dtype=float32),\n",
       " <BarContainer object of 10 artists>)"
      ]
     },
     "execution_count": 23,
     "metadata": {},
     "output_type": "execute_result"
    },
    {
     "data": {
      "image/png": "[encoded data removed]",
      "text/plain": [
       "<Figure size 432x288 with 1 Axes>"
      ]
     },
     "metadata": {
      "needs_background": "light"
     },
     "output_type": "display_data"
    }
   ],
   "source": [
    "from scipy.special import softmax\n",
    "import matplotlib.pyplot as plt \n",
    "\n",
    "plt.hist(np.max(scipy.special.softmax(probs, axis=-1),axis=-1))"
   ]
  },
  {
   "cell_type": "code",
   "execution_count": 33,
   "id": "4c3f12bd",
   "metadata": {},
   "outputs": [],
   "source": []
  },
  {
   "cell_type": "code",
   "execution_count": 35,
   "id": "798f3ce7",
   "metadata": {},
   "outputs": [
    {
     "data": {
      "text/plain": [
       "array([1.        , 0.99999994, 1.        , ..., 0.99999994, 1.        ,\n",
       "       1.0000001 ], dtype=float32)"
      ]
     },
     "execution_count": 35,
     "metadata": {},
     "output_type": "execute_result"
    }
   ],
   "source": [
    "np.sum(probs,axis=-1)"
   ]
  },
  {
   "cell_type": "code",
   "execution_count": null,
   "id": "c85aedaa",
   "metadata": {},
   "outputs": [],
   "source": []
  }
 ],
 "metadata": {
  "kernelspec": {
   "display_name": "Python 3",
   "language": "python",
   "name": "python3"
  },
  "language_info": {
   "codemirror_mode": {
    "name": "ipython",
    "version": 3
   },
   "file_extension": ".py",
   "mimetype": "text/x-python",
   "name": "python",
   "nbconvert_exporter": "python",
   "pygments_lexer": "ipython3",
   "version": "3.8.12"
  }
 },
 "nbformat": 4,
 "nbformat_minor": 5
}
